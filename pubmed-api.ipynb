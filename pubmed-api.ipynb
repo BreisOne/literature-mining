{
 "cells": [
  {
   "cell_type": "code",
   "execution_count": 19,
   "metadata": {},
   "outputs": [],
   "source": [
    "from pymed import PubMed\n",
    "import pandas as pd\n",
    "\n",
    "pubmed = PubMed(tool=\"MyTool\", email=\"b.mascat@gmail.com\")\n",
    "farmacos = pd.read_csv(\"farmacos.csv\", header=None, names=['Farmaco'])\n",
    "tumores = pd.read_csv(\"tipo_tumores.csv\", header=None, names=['TipoTumor'])\n",
    "\n",
    "# Función para obtener el número de resultados\n",
    "def get_results_count(query):\n",
    "    return pubmed.getTotalResultsCount(query)\n",
    "\n",
    "# Función para procesar una única combinación de tipos de tumor y fármacos\n",
    "def process_combination(tipo_tumor, farmaco):\n",
    "    query = f\"{tipo_tumor} AND {farmaco}\"\n",
    "    results_count = get_results_count(query)\n",
    "    return {'TipoTumor': tipo_tumor, 'Farmaco': farmaco, 'Resultados': results_count}\n"
   ]
  },
  {
   "cell_type": "code",
   "execution_count": 20,
   "metadata": {},
   "outputs": [
    {
     "name": "stdout",
     "output_type": "stream",
     "text": [
      "DataFrame de Resultados:\n",
      "                          TipoTumor                Farmaco  Resultados\n",
      "0            Gastric Adenocarcinoma          PEMBROlizumab         129\n",
      "1            Gastric Adenocarcinoma            OSIMERTINIB           4\n",
      "2            Gastric Adenocarcinoma              NIVOlumab         133\n",
      "3            Gastric Adenocarcinoma            ABEMACICLIB           0\n",
      "4            Gastric Adenocarcinoma  EMTANSINA TRASTUZUMAB           0\n",
      "...                             ...                    ...         ...\n",
      "2595  Colorectal Carcinoma Invasive              RUCAPARIB           0\n",
      "2596  Colorectal Carcinoma Invasive               ALBÚMINA           0\n",
      "2597  Colorectal Carcinoma Invasive           TEMOZOLOMIDA           4\n",
      "2598  Colorectal Carcinoma Invasive           OXALIPLATINO         355\n",
      "2599  Colorectal Carcinoma Invasive              SOTORASIB           2\n",
      "\n",
      "[2600 rows x 3 columns]\n"
     ]
    }
   ],
   "source": [
    "# Inicializar una lista para almacenar los resultados\n",
    "results_list = []\n",
    "\n",
    "# Bucle anidado para combinar tipos de tumor y fármacos\n",
    "for tipo_tumor in tumores['TipoTumor']:\n",
    "    for farmaco in farmacos['Farmaco']:\n",
    "        # Crear la consulta combinando el tipo de tumor y el fármaco\n",
    "        query = f\"{tipo_tumor} AND {farmaco}\"\n",
    "        # Obtener el número de resultados\n",
    "        results_count = get_results_count(query)\n",
    "        # Agregar los resultados a la lista\n",
    "        results_list.append({'TipoTumor': tipo_tumor, 'Farmaco': farmaco, 'Resultados': results_count})\n",
    "\n",
    "# Crear un DataFrame a partir de la lista de resultados\n",
    "results_df = pd.DataFrame(results_list)\n",
    "\n",
    "# Mostrar el DataFrame final\n",
    "print(\"DataFrame de Resultados:\")\n",
    "print(results_df)"
   ]
  }
 ],
 "metadata": {
  "kernelspec": {
   "display_name": "Python 3",
   "language": "python",
   "name": "python3"
  },
  "language_info": {
   "codemirror_mode": {
    "name": "ipython",
    "version": 3
   },
   "file_extension": ".py",
   "mimetype": "text/x-python",
   "name": "python",
   "nbconvert_exporter": "python",
   "pygments_lexer": "ipython3",
   "version": "3.10.0"
  }
 },
 "nbformat": 4,
 "nbformat_minor": 2
}
