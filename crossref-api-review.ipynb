{
 "cells": [
  {
   "cell_type": "code",
   "execution_count": null,
   "metadata": {},
   "outputs": [],
   "source": [
    "import pandas as pd\n",
    "from habanero import Crossref\n",
    "from concurrent.futures import ThreadPoolExecutor\n",
    "\n",
    "\n",
    "# Función para obtener el número de resultados usando la API de CrossRef\n",
    "def get_results_count(query):\n",
    "    cr = Crossref()\n",
    "    result = cr.works(query=query, rows=0)  # Rows=0 devuelve solo el número total de resultados\n",
    "    return result['message']['total-results']\n",
    "\n",
    "# Función para procesar una única combinación de tipos de tumor y fármacos\n",
    "def process_combination(tipo_tumor, farmaco):\n",
    "    query = f\"{tipo_tumor} AND {farmaco}\"\n",
    "    results_count = get_results_count(query)\n",
    "    return {'TipoTumor': tipo_tumor, 'Farmaco': farmaco, 'Resultados': results_count}\n",
    "\n",
    "\n",
    "# Cargar tipos de tumor y fármacos desde CSV sin encabezado\n",
    "tipos_de_tumor_df = pd.read_csv('tipo_tumores.csv', header=None, names=['TipoTumor'])\n",
    "farmacos_df = pd.read_csv('farmacos.csv', header=None, names=['Farmaco'])"
   ]
  },
  {
   "cell_type": "code",
   "execution_count": 3,
   "metadata": {},
   "outputs": [],
   "source": [
    "# Inicializar una lista para almacenar los resultados\n",
    "results_list = []\n",
    "\n",
    "# Bucle anidado para combinar tipos de tumor y fármacos\n",
    "for tipo_tumor in tipos_de_tumor_df['TipoTumor']:\n",
    "    for farmaco in farmacos_df['Farmaco']:\n",
    "        # Crear la consulta combinando el tipo de tumor y el fármaco\n",
    "        query = f\"{tipo_tumor} AND {farmaco}\"\n",
    "        # Obtener el número de resultados\n",
    "        results_count = get_results_count(query)\n",
    "        # Agregar los resultados a la lista\n",
    "        results_list.append({'TipoTumor': tipo_tumor, 'Farmaco': farmaco, 'Resultados': results_count})\n",
    "\n",
    "# Crear un DataFrame a partir de la lista de resultados\n",
    "results_df = pd.DataFrame(results_list)\n",
    "\n",
    "# Mostrar el DataFrame final\n",
    "print(\"DataFrame de Resultados:\")\n",
    "print(results_df)"
   ]
  },
  {
   "cell_type": "code",
   "execution_count": null,
   "metadata": {},
   "outputs": [],
   "source": [
    "# Crear una lista de combinaciones de tipos de tumor y fármacos\n",
    "combinations = [(tipo_tumor, farmaco) for tipo_tumor in tipos_de_tumor_df['TipoTumor'] for farmaco in farmacos_df['Farmaco']]\n",
    "\n",
    "# Utilizar ThreadPoolExecutor para procesar las combinaciones en paralelo\n",
    "with ThreadPoolExecutor() as executor:\n",
    "    results_list = list(executor.map(lambda x: process_combination(*x), combinations))\n",
    "\n",
    "# Crear un DataFrame a partir de la lista de resultados\n",
    "results_df = pd.DataFrame(results_list)\n",
    "\n",
    "# Mostrar el DataFrame final\n",
    "print(\"DataFrame de Resultados:\")\n",
    "print(results_df)"
   ]
  }
 ],
 "metadata": {
  "kernelspec": {
   "display_name": "Python 3",
   "language": "python",
   "name": "python3"
  },
  "language_info": {
   "codemirror_mode": {
    "name": "ipython",
    "version": 3
   },
   "file_extension": ".py",
   "mimetype": "text/x-python",
   "name": "python",
   "nbconvert_exporter": "python",
   "pygments_lexer": "ipython3",
   "version": "3.10.0"
  }
 },
 "nbformat": 4,
 "nbformat_minor": 2
}
